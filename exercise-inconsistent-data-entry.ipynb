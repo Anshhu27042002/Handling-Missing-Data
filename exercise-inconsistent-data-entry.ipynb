{
 "cells": [
  {
   "cell_type": "markdown",
   "id": "4be4c683",
   "metadata": {
    "papermill": {
     "duration": 0.006606,
     "end_time": "2023-02-12T14:13:19.618040",
     "exception": false,
     "start_time": "2023-02-12T14:13:19.611434",
     "status": "completed"
    },
    "tags": []
   },
   "source": [
    "**This notebook is an exercise in the [Data Cleaning](https://www.kaggle.com/learn/data-cleaning) course.  You can reference the tutorial at [this link](https://www.kaggle.com/alexisbcook/inconsistent-data-entry).**\n",
    "\n",
    "---\n"
   ]
  },
  {
   "cell_type": "markdown",
   "id": "3dd49e58",
   "metadata": {
    "papermill": {
     "duration": 0.004806,
     "end_time": "2023-02-12T14:13:19.628449",
     "exception": false,
     "start_time": "2023-02-12T14:13:19.623643",
     "status": "completed"
    },
    "tags": []
   },
   "source": [
    "In this exercise, you'll apply what you learned in the **Inconsistent data entry** tutorial.\n",
    "\n",
    "# Setup\n",
    "\n",
    "The questions below will give you feedback on your work. Run the following cell to set up the feedback system."
   ]
  },
  {
   "cell_type": "code",
   "execution_count": 1,
   "id": "b19450b6",
   "metadata": {
    "execution": {
     "iopub.execute_input": "2023-02-12T14:13:19.642339Z",
     "iopub.status.busy": "2023-02-12T14:13:19.641288Z",
     "iopub.status.idle": "2023-02-12T14:13:19.871977Z",
     "shell.execute_reply": "2023-02-12T14:13:19.870718Z"
    },
    "papermill": {
     "duration": 0.24456,
     "end_time": "2023-02-12T14:13:19.878715",
     "exception": false,
     "start_time": "2023-02-12T14:13:19.634155",
     "status": "completed"
    },
    "tags": []
   },
   "outputs": [
    {
     "name": "stdout",
     "output_type": "stream",
     "text": [
      "Setup Complete\n"
     ]
    }
   ],
   "source": [
    "from learntools.core import binder\n",
    "binder.bind(globals())\n",
    "from learntools.data_cleaning.ex5 import *\n",
    "print(\"Setup Complete\")"
   ]
  },
  {
   "cell_type": "markdown",
   "id": "69436e24",
   "metadata": {
    "papermill": {
     "duration": 0.006414,
     "end_time": "2023-02-12T14:13:19.894513",
     "exception": false,
     "start_time": "2023-02-12T14:13:19.888099",
     "status": "completed"
    },
    "tags": []
   },
   "source": [
    "# Get our environment set up\n",
    "\n",
    "The first thing we'll need to do is load in the libraries and dataset we'll be using.  We use the same dataset from the tutorial."
   ]
  },
  {
   "cell_type": "code",
   "execution_count": 2,
   "id": "522ff326",
   "metadata": {
    "execution": {
     "iopub.execute_input": "2023-02-12T14:13:19.907628Z",
     "iopub.status.busy": "2023-02-12T14:13:19.906782Z",
     "iopub.status.idle": "2023-02-12T14:13:19.926495Z",
     "shell.execute_reply": "2023-02-12T14:13:19.925476Z"
    },
    "papermill": {
     "duration": 0.029319,
     "end_time": "2023-02-12T14:13:19.929227",
     "exception": false,
     "start_time": "2023-02-12T14:13:19.899908",
     "status": "completed"
    },
    "tags": []
   },
   "outputs": [],
   "source": [
    "# modules we'll use\n",
    "import pandas as pd\n",
    "import numpy as np\n",
    "\n",
    "# helpful modules\n",
    "import fuzzywuzzy\n",
    "from fuzzywuzzy import process\n",
    "import chardet\n",
    "\n",
    "# read in all our data\n",
    "professors = pd.read_csv(\"../input/pakistan-intellectual-capital/pakistan_intellectual_capital.csv\")\n",
    "\n",
    "# set seed for reproducibility\n",
    "np.random.seed(0)"
   ]
  },
  {
   "cell_type": "markdown",
   "id": "0bd38731",
   "metadata": {
    "papermill": {
     "duration": 0.005092,
     "end_time": "2023-02-12T14:13:19.939816",
     "exception": false,
     "start_time": "2023-02-12T14:13:19.934724",
     "status": "completed"
    },
    "tags": []
   },
   "source": [
    "Next, we'll redo all of the work that we did in the tutorial."
   ]
  },
  {
   "cell_type": "code",
   "execution_count": 3,
   "id": "75d04a48",
   "metadata": {
    "execution": {
     "iopub.execute_input": "2023-02-12T14:13:19.952543Z",
     "iopub.status.busy": "2023-02-12T14:13:19.952111Z",
     "iopub.status.idle": "2023-02-12T14:13:19.968102Z",
     "shell.execute_reply": "2023-02-12T14:13:19.966490Z"
    },
    "papermill": {
     "duration": 0.025676,
     "end_time": "2023-02-12T14:13:19.970791",
     "exception": false,
     "start_time": "2023-02-12T14:13:19.945115",
     "status": "completed"
    },
    "tags": []
   },
   "outputs": [
    {
     "name": "stdout",
     "output_type": "stream",
     "text": [
      "All done!\n"
     ]
    }
   ],
   "source": [
    "# convert to lower case\n",
    "professors['Country'] = professors['Country'].str.lower()\n",
    "# remove trailing white spaces\n",
    "professors['Country'] = professors['Country'].str.strip()\n",
    "\n",
    "# get the top 10 closest matches to \"south korea\"\n",
    "countries = professors['Country'].unique()\n",
    "matches = fuzzywuzzy.process.extract(\"south korea\", countries, limit=10, scorer=fuzzywuzzy.fuzz.token_sort_ratio)\n",
    "\n",
    "def replace_matches_in_column(df, column, string_to_match, min_ratio = 47):\n",
    "    # get a list of unique strings\n",
    "    strings = df[column].unique()\n",
    "    \n",
    "    # get the top 10 closest matches to our input string\n",
    "    matches = fuzzywuzzy.process.extract(string_to_match, strings, \n",
    "                                         limit=10, scorer=fuzzywuzzy.fuzz.token_sort_ratio)\n",
    "\n",
    "    # only get matches with a ratio > 90\n",
    "    close_matches = [matches[0] for matches in matches if matches[1] >= min_ratio]\n",
    "\n",
    "    # get the rows of all the close matches in our dataframe\n",
    "    rows_with_matches = df[column].isin(close_matches)\n",
    "\n",
    "    # replace all rows with close matches with the input matches \n",
    "    df.loc[rows_with_matches, column] = string_to_match\n",
    "    \n",
    "    # let us know the function's done\n",
    "    print(\"All done!\")\n",
    "    \n",
    "replace_matches_in_column(df=professors, column='Country', string_to_match=\"south korea\")\n",
    "countries = professors['Country'].unique()"
   ]
  },
  {
   "cell_type": "markdown",
   "id": "fc3f9583",
   "metadata": {
    "papermill": {
     "duration": 0.005173,
     "end_time": "2023-02-12T14:13:19.981471",
     "exception": false,
     "start_time": "2023-02-12T14:13:19.976298",
     "status": "completed"
    },
    "tags": []
   },
   "source": [
    "# 1) Examine another column\n",
    "\n",
    "Write code below to take a look at all the unique values in the \"Graduated from\" column."
   ]
  },
  {
   "cell_type": "code",
   "execution_count": 4,
   "id": "8171a853",
   "metadata": {
    "execution": {
     "iopub.execute_input": "2023-02-12T14:13:19.993866Z",
     "iopub.status.busy": "2023-02-12T14:13:19.993425Z",
     "iopub.status.idle": "2023-02-12T14:13:19.999345Z",
     "shell.execute_reply": "2023-02-12T14:13:19.998077Z"
    },
    "papermill": {
     "duration": 0.014886,
     "end_time": "2023-02-12T14:13:20.001632",
     "exception": false,
     "start_time": "2023-02-12T14:13:19.986746",
     "status": "completed"
    },
    "tags": []
   },
   "outputs": [],
   "source": [
    "# TODO: Your code here\n",
    "unis = professors['Graduated from'].unique()"
   ]
  },
  {
   "cell_type": "markdown",
   "id": "c07a8269",
   "metadata": {
    "papermill": {
     "duration": 0.005223,
     "end_time": "2023-02-12T14:13:20.012413",
     "exception": false,
     "start_time": "2023-02-12T14:13:20.007190",
     "status": "completed"
    },
    "tags": []
   },
   "source": [
    "Do you notice any inconsistencies in the data?  Can any of the inconsistencies in the data be fixed by removing white spaces at the beginning and end of cells?\n",
    "\n",
    "Once you have answered these questions, run the code cell below to get credit for your work."
   ]
  },
  {
   "cell_type": "code",
   "execution_count": 5,
   "id": "117690b7",
   "metadata": {
    "execution": {
     "iopub.execute_input": "2023-02-12T14:13:20.026057Z",
     "iopub.status.busy": "2023-02-12T14:13:20.025445Z",
     "iopub.status.idle": "2023-02-12T14:13:20.035711Z",
     "shell.execute_reply": "2023-02-12T14:13:20.034721Z"
    },
    "papermill": {
     "duration": 0.019658,
     "end_time": "2023-02-12T14:13:20.037884",
     "exception": false,
     "start_time": "2023-02-12T14:13:20.018226",
     "status": "completed"
    },
    "tags": []
   },
   "outputs": [
    {
     "data": {
      "application/javascript": [
       "parent.postMessage({\"jupyterEvent\": \"custom.exercise_interaction\", \"data\": {\"outcomeType\": 1, \"valueTowardsCompletion\": 0.3333333333333333, \"interactionType\": 1, \"questionType\": 4, \"questionId\": \"1_ExamineProvince\", \"learnToolsVersion\": \"0.3.4\", \"failureMessage\": \"\", \"exceptionClass\": \"\", \"trace\": \"\"}}, \"*\")"
      ],
      "text/plain": [
       "<IPython.core.display.Javascript object>"
      ]
     },
     "metadata": {},
     "output_type": "display_data"
    },
    {
     "data": {
      "text/markdown": [
       "<span style=\"color:#33cc33\">Correct:</span> \n",
       "\n",
       "There are inconsistencies that can be fixed by removing white spaces at the beginning and end of cells.  For instance, \"University of Central Florida\" and \" University of Central Florida\" both appear in the column."
      ],
      "text/plain": [
       "Correct: \n",
       "\n",
       "There are inconsistencies that can be fixed by removing white spaces at the beginning and end of cells.  For instance, \"University of Central Florida\" and \" University of Central Florida\" both appear in the column."
      ]
     },
     "metadata": {},
     "output_type": "display_data"
    }
   ],
   "source": [
    "# Check your answer (Run this code cell to receive credit!)\n",
    "q1.check()"
   ]
  },
  {
   "cell_type": "code",
   "execution_count": 6,
   "id": "9cd7a83f",
   "metadata": {
    "execution": {
     "iopub.execute_input": "2023-02-12T14:13:20.051375Z",
     "iopub.status.busy": "2023-02-12T14:13:20.050556Z",
     "iopub.status.idle": "2023-02-12T14:13:20.055977Z",
     "shell.execute_reply": "2023-02-12T14:13:20.054798Z"
    },
    "papermill": {
     "duration": 0.015098,
     "end_time": "2023-02-12T14:13:20.058747",
     "exception": false,
     "start_time": "2023-02-12T14:13:20.043649",
     "status": "completed"
    },
    "tags": []
   },
   "outputs": [],
   "source": [
    "# Line below will give you a hint\n",
    "# q1.hint()"
   ]
  },
  {
   "cell_type": "markdown",
   "id": "92473c36",
   "metadata": {
    "papermill": {
     "duration": 0.005291,
     "end_time": "2023-02-12T14:13:20.069819",
     "exception": false,
     "start_time": "2023-02-12T14:13:20.064528",
     "status": "completed"
    },
    "tags": []
   },
   "source": [
    "# 2) Do some text pre-processing\n",
    "\n",
    "Convert every entry in the \"Graduated from\" column in the `professors` DataFrame to remove white spaces at the beginning and end of cells."
   ]
  },
  {
   "cell_type": "code",
   "execution_count": 7,
   "id": "720f6b2b",
   "metadata": {
    "execution": {
     "iopub.execute_input": "2023-02-12T14:13:20.083205Z",
     "iopub.status.busy": "2023-02-12T14:13:20.082803Z",
     "iopub.status.idle": "2023-02-12T14:13:20.098941Z",
     "shell.execute_reply": "2023-02-12T14:13:20.097709Z"
    },
    "papermill": {
     "duration": 0.02561,
     "end_time": "2023-02-12T14:13:20.101402",
     "exception": false,
     "start_time": "2023-02-12T14:13:20.075792",
     "status": "completed"
    },
    "tags": []
   },
   "outputs": [
    {
     "data": {
      "application/javascript": [
       "parent.postMessage({\"jupyterEvent\": \"custom.exercise_interaction\", \"data\": {\"outcomeType\": 1, \"valueTowardsCompletion\": 0.3333333333333333, \"interactionType\": 1, \"questionType\": 1, \"questionId\": \"2_TextProcessing\", \"learnToolsVersion\": \"0.3.4\", \"failureMessage\": \"\", \"exceptionClass\": \"\", \"trace\": \"\"}}, \"*\")"
      ],
      "text/plain": [
       "<IPython.core.display.Javascript object>"
      ]
     },
     "metadata": {},
     "output_type": "display_data"
    },
    {
     "data": {
      "text/markdown": [
       "<span style=\"color:#33cc33\">Correct</span>"
      ],
      "text/plain": [
       "Correct"
      ]
     },
     "metadata": {},
     "output_type": "display_data"
    }
   ],
   "source": [
    "# TODO: Your code here\n",
    "\n",
    "professors['Graduated from'] = professors['Graduated from'].str.strip()\n",
    "# Check your answer\n",
    "q2.check()"
   ]
  },
  {
   "cell_type": "code",
   "execution_count": 8,
   "id": "1e1e02db",
   "metadata": {
    "execution": {
     "iopub.execute_input": "2023-02-12T14:13:20.114691Z",
     "iopub.status.busy": "2023-02-12T14:13:20.114252Z",
     "iopub.status.idle": "2023-02-12T14:13:20.118907Z",
     "shell.execute_reply": "2023-02-12T14:13:20.117555Z"
    },
    "papermill": {
     "duration": 0.014136,
     "end_time": "2023-02-12T14:13:20.121266",
     "exception": false,
     "start_time": "2023-02-12T14:13:20.107130",
     "status": "completed"
    },
    "tags": []
   },
   "outputs": [],
   "source": [
    "# Lines below will give you a hint or solution code\n",
    "#q2.hint()\n",
    "#q2.solution()"
   ]
  },
  {
   "cell_type": "markdown",
   "id": "1ee7e056",
   "metadata": {
    "papermill": {
     "duration": 0.005407,
     "end_time": "2023-02-12T14:13:20.132435",
     "exception": false,
     "start_time": "2023-02-12T14:13:20.127028",
     "status": "completed"
    },
    "tags": []
   },
   "source": [
    "# 3) Continue working with countries\n",
    "\n",
    "In the tutorial, we focused on cleaning up inconsistencies in the \"Country\" column.  Run the code cell below to view the list of unique values that we ended with."
   ]
  },
  {
   "cell_type": "code",
   "execution_count": 9,
   "id": "06fc402b",
   "metadata": {
    "execution": {
     "iopub.execute_input": "2023-02-12T14:13:20.146680Z",
     "iopub.status.busy": "2023-02-12T14:13:20.146242Z",
     "iopub.status.idle": "2023-02-12T14:13:20.154853Z",
     "shell.execute_reply": "2023-02-12T14:13:20.153536Z"
    },
    "papermill": {
     "duration": 0.018401,
     "end_time": "2023-02-12T14:13:20.157424",
     "exception": false,
     "start_time": "2023-02-12T14:13:20.139023",
     "status": "completed"
    },
    "tags": []
   },
   "outputs": [
    {
     "data": {
      "text/plain": [
       "array(['australia', 'austria', 'canada', 'china', 'finland', 'france',\n",
       "       'germany', 'greece', 'hongkong', 'ireland', 'italy', 'japan',\n",
       "       'macau', 'malaysia', 'mauritius', 'netherland', 'new zealand',\n",
       "       'norway', 'pakistan', 'portugal', 'russian federation',\n",
       "       'saudi arabia', 'scotland', 'singapore', 'south korea', 'spain',\n",
       "       'sweden', 'thailand', 'turkey', 'uk', 'urbana', 'usa', 'usofa'],\n",
       "      dtype=object)"
      ]
     },
     "execution_count": 9,
     "metadata": {},
     "output_type": "execute_result"
    }
   ],
   "source": [
    "# get all the unique values in the 'City' column\n",
    "countries = professors['Country'].unique()\n",
    "\n",
    "# sort them alphabetically and then take a closer look\n",
    "countries.sort()\n",
    "countries"
   ]
  },
  {
   "cell_type": "markdown",
   "id": "3f29e919",
   "metadata": {
    "papermill": {
     "duration": 0.005495,
     "end_time": "2023-02-12T14:13:20.168835",
     "exception": false,
     "start_time": "2023-02-12T14:13:20.163340",
     "status": "completed"
    },
    "tags": []
   },
   "source": [
    "Take another look at the \"Country\" column and see if there's any more data cleaning we need to do.\n",
    "\n",
    "It looks like 'usa' and 'usofa' should be the same country.  Correct the \"Country\" column in the dataframe to replace 'usofa' with 'usa'.\n",
    "\n",
    "**Use the most recent version of the DataFrame (with the whitespaces at the beginning and end of cells removed) from question 2.**"
   ]
  },
  {
   "cell_type": "code",
   "execution_count": 10,
   "id": "e8bf5af3",
   "metadata": {
    "execution": {
     "iopub.execute_input": "2023-02-12T14:13:20.182642Z",
     "iopub.status.busy": "2023-02-12T14:13:20.181935Z",
     "iopub.status.idle": "2023-02-12T14:13:20.198650Z",
     "shell.execute_reply": "2023-02-12T14:13:20.197112Z"
    },
    "papermill": {
     "duration": 0.026258,
     "end_time": "2023-02-12T14:13:20.200908",
     "exception": false,
     "start_time": "2023-02-12T14:13:20.174650",
     "status": "completed"
    },
    "tags": []
   },
   "outputs": [
    {
     "name": "stdout",
     "output_type": "stream",
     "text": [
      "All done!\n"
     ]
    },
    {
     "data": {
      "application/javascript": [
       "parent.postMessage({\"jupyterEvent\": \"custom.exercise_interaction\", \"data\": {\"outcomeType\": 1, \"valueTowardsCompletion\": 0.3333333333333333, \"interactionType\": 1, \"questionType\": 1, \"questionId\": \"3_WorkingWithCities\", \"learnToolsVersion\": \"0.3.4\", \"failureMessage\": \"\", \"exceptionClass\": \"\", \"trace\": \"\"}}, \"*\")"
      ],
      "text/plain": [
       "<IPython.core.display.Javascript object>"
      ]
     },
     "metadata": {},
     "output_type": "display_data"
    },
    {
     "data": {
      "text/markdown": [
       "<span style=\"color:#33cc33\">Correct</span>"
      ],
      "text/plain": [
       "Correct"
      ]
     },
     "metadata": {},
     "output_type": "display_data"
    }
   ],
   "source": [
    "# TODO: Your code here!\n",
    "matches = fuzzywuzzy.process.extract(\"usa\", countries, limit=10,scorer=fuzzywuzzy.fuzz.token_sort_ratio)\n",
    "replace_matches_in_column(df=professors, column ='Country', string_to_match=\"usa\" , min_ratio=70)\n",
    "\n",
    "# Check your answer\n",
    "q3.check()"
   ]
  },
  {
   "cell_type": "code",
   "execution_count": 11,
   "id": "ca680d08",
   "metadata": {
    "execution": {
     "iopub.execute_input": "2023-02-12T14:13:20.215578Z",
     "iopub.status.busy": "2023-02-12T14:13:20.214369Z",
     "iopub.status.idle": "2023-02-12T14:13:20.219372Z",
     "shell.execute_reply": "2023-02-12T14:13:20.218347Z"
    },
    "papermill": {
     "duration": 0.014658,
     "end_time": "2023-02-12T14:13:20.221689",
     "exception": false,
     "start_time": "2023-02-12T14:13:20.207031",
     "status": "completed"
    },
    "tags": []
   },
   "outputs": [],
   "source": [
    "# Lines below will give you a hint or solution code\n",
    "#q3.hint()\n",
    "#q3.solution()"
   ]
  },
  {
   "cell_type": "markdown",
   "id": "87b730d6",
   "metadata": {
    "papermill": {
     "duration": 0.005924,
     "end_time": "2023-02-12T14:13:20.233937",
     "exception": false,
     "start_time": "2023-02-12T14:13:20.228013",
     "status": "completed"
    },
    "tags": []
   },
   "source": [
    "# Congratulations!\n",
    "\n",
    "Congratulations for completing the **Data Cleaning** course on Kaggle Learn!\n",
    "\n",
    "To practice your new skills, you're encouraged to download and investigate some of [Kaggle's Datasets](https://www.kaggle.com/datasets)."
   ]
  },
  {
   "cell_type": "markdown",
   "id": "5ae0803b",
   "metadata": {
    "papermill": {
     "duration": 0.006526,
     "end_time": "2023-02-12T14:13:20.246770",
     "exception": false,
     "start_time": "2023-02-12T14:13:20.240244",
     "status": "completed"
    },
    "tags": []
   },
   "source": [
    "---\n",
    "\n",
    "\n",
    "\n",
    "\n",
    "*Have questions or comments? Visit the [course discussion forum](https://www.kaggle.com/learn/data-cleaning/discussion) to chat with other learners.*"
   ]
  }
 ],
 "metadata": {
  "kernelspec": {
   "display_name": "Python 3",
   "language": "python",
   "name": "python3"
  },
  "language_info": {
   "codemirror_mode": {
    "name": "ipython",
    "version": 3
   },
   "file_extension": ".py",
   "mimetype": "text/x-python",
   "name": "python",
   "nbconvert_exporter": "python",
   "pygments_lexer": "ipython3",
   "version": "3.7.12"
  },
  "papermill": {
   "default_parameters": {},
   "duration": 10.105776,
   "end_time": "2023-02-12T14:13:20.975090",
   "environment_variables": {},
   "exception": null,
   "input_path": "__notebook__.ipynb",
   "output_path": "__notebook__.ipynb",
   "parameters": {},
   "start_time": "2023-02-12T14:13:10.869314",
   "version": "2.3.4"
  }
 },
 "nbformat": 4,
 "nbformat_minor": 5
}
