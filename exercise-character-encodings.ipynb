{
 "cells": [
  {
   "cell_type": "markdown",
   "id": "75faeda4",
   "metadata": {
    "papermill": {
     "duration": 0.005669,
     "end_time": "2023-02-12T13:54:39.235869",
     "exception": false,
     "start_time": "2023-02-12T13:54:39.230200",
     "status": "completed"
    },
    "tags": []
   },
   "source": [
    "**This notebook is an exercise in the [Data Cleaning](https://www.kaggle.com/learn/data-cleaning) course.  You can reference the tutorial at [this link](https://www.kaggle.com/alexisbcook/character-encodings).**\n",
    "\n",
    "---\n"
   ]
  },
  {
   "cell_type": "markdown",
   "id": "e8b867d9",
   "metadata": {
    "papermill": {
     "duration": 0.004243,
     "end_time": "2023-02-12T13:54:39.244878",
     "exception": false,
     "start_time": "2023-02-12T13:54:39.240635",
     "status": "completed"
    },
    "tags": []
   },
   "source": [
    "In this exercise, you'll apply what you learned in the **Character encodings** tutorial.\n",
    "\n",
    "# Setup\n",
    "\n",
    "The questions below will give you feedback on your work. Run the following cell to set up the feedback system."
   ]
  },
  {
   "cell_type": "code",
   "execution_count": 1,
   "id": "4a851fe0",
   "metadata": {
    "execution": {
     "iopub.execute_input": "2023-02-12T13:54:39.256478Z",
     "iopub.status.busy": "2023-02-12T13:54:39.255842Z",
     "iopub.status.idle": "2023-02-12T13:54:39.350202Z",
     "shell.execute_reply": "2023-02-12T13:54:39.348933Z"
    },
    "papermill": {
     "duration": 0.103746,
     "end_time": "2023-02-12T13:54:39.353141",
     "exception": false,
     "start_time": "2023-02-12T13:54:39.249395",
     "status": "completed"
    },
    "tags": []
   },
   "outputs": [
    {
     "name": "stdout",
     "output_type": "stream",
     "text": [
      "Setup Complete\n"
     ]
    }
   ],
   "source": [
    "from learntools.core import binder\n",
    "binder.bind(globals())\n",
    "from learntools.data_cleaning.ex4 import *\n",
    "print(\"Setup Complete\")"
   ]
  },
  {
   "cell_type": "markdown",
   "id": "b6406f8c",
   "metadata": {
    "papermill": {
     "duration": 0.006723,
     "end_time": "2023-02-12T13:54:39.364657",
     "exception": false,
     "start_time": "2023-02-12T13:54:39.357934",
     "status": "completed"
    },
    "tags": []
   },
   "source": [
    "# Get our environment set up\n",
    "\n",
    "The first thing we'll need to do is load in the libraries we'll be using."
   ]
  },
  {
   "cell_type": "code",
   "execution_count": 2,
   "id": "a159ac0e",
   "metadata": {
    "execution": {
     "iopub.execute_input": "2023-02-12T13:54:39.377174Z",
     "iopub.status.busy": "2023-02-12T13:54:39.376768Z",
     "iopub.status.idle": "2023-02-12T13:54:39.381717Z",
     "shell.execute_reply": "2023-02-12T13:54:39.380866Z"
    },
    "papermill": {
     "duration": 0.012785,
     "end_time": "2023-02-12T13:54:39.383684",
     "exception": false,
     "start_time": "2023-02-12T13:54:39.370899",
     "status": "completed"
    },
    "tags": []
   },
   "outputs": [],
   "source": [
    "# modules we'll use\n",
    "import pandas as pd\n",
    "import numpy as np\n",
    "\n",
    "# helpful character encoding module\n",
    "import chardet\n",
    "\n",
    "# set seed for reproducibility\n",
    "np.random.seed(0)"
   ]
  },
  {
   "cell_type": "markdown",
   "id": "b6950c60",
   "metadata": {
    "papermill": {
     "duration": 0.004422,
     "end_time": "2023-02-12T13:54:39.392828",
     "exception": false,
     "start_time": "2023-02-12T13:54:39.388406",
     "status": "completed"
    },
    "tags": []
   },
   "source": [
    "# 1) What are encodings?\n",
    "\n",
    "You're working with a dataset composed of bytes.  Run the code cell below to print a sample entry."
   ]
  },
  {
   "cell_type": "code",
   "execution_count": 3,
   "id": "0aed9f69",
   "metadata": {
    "execution": {
     "iopub.execute_input": "2023-02-12T13:54:39.404755Z",
     "iopub.status.busy": "2023-02-12T13:54:39.403932Z",
     "iopub.status.idle": "2023-02-12T13:54:39.410193Z",
     "shell.execute_reply": "2023-02-12T13:54:39.408472Z"
    },
    "papermill": {
     "duration": 0.015479,
     "end_time": "2023-02-12T13:54:39.413044",
     "exception": false,
     "start_time": "2023-02-12T13:54:39.397565",
     "status": "completed"
    },
    "tags": []
   },
   "outputs": [
    {
     "name": "stdout",
     "output_type": "stream",
     "text": [
      "b'\\xa7A\\xa6n'\n",
      "data type: <class 'bytes'>\n"
     ]
    }
   ],
   "source": [
    "sample_entry = b'\\xa7A\\xa6n'\n",
    "print(sample_entry)\n",
    "print('data type:', type(sample_entry))"
   ]
  },
  {
   "cell_type": "markdown",
   "id": "2af4d341",
   "metadata": {
    "papermill": {
     "duration": 0.004489,
     "end_time": "2023-02-12T13:54:39.422677",
     "exception": false,
     "start_time": "2023-02-12T13:54:39.418188",
     "status": "completed"
    },
    "tags": []
   },
   "source": [
    "You notice that it doesn't use the standard UTF-8 encoding. \n",
    "\n",
    "Use the next code cell to create a variable `new_entry` that changes the encoding from `\"big5-tw\"` to `\"utf-8\"`.  `new_entry` should have the bytes datatype."
   ]
  },
  {
   "cell_type": "code",
   "execution_count": 4,
   "id": "81653fb2",
   "metadata": {
    "execution": {
     "iopub.execute_input": "2023-02-12T13:54:39.434381Z",
     "iopub.status.busy": "2023-02-12T13:54:39.433737Z",
     "iopub.status.idle": "2023-02-12T13:54:39.443217Z",
     "shell.execute_reply": "2023-02-12T13:54:39.442442Z"
    },
    "papermill": {
     "duration": 0.017877,
     "end_time": "2023-02-12T13:54:39.445298",
     "exception": false,
     "start_time": "2023-02-12T13:54:39.427421",
     "status": "completed"
    },
    "tags": []
   },
   "outputs": [
    {
     "data": {
      "application/javascript": [
       "parent.postMessage({\"jupyterEvent\": \"custom.exercise_interaction\", \"data\": {\"outcomeType\": 1, \"valueTowardsCompletion\": 0.3333333333333333, \"interactionType\": 1, \"questionType\": 1, \"questionId\": \"1_EncodingsIntro\", \"learnToolsVersion\": \"0.3.4\", \"failureMessage\": \"\", \"exceptionClass\": \"\", \"trace\": \"\"}}, \"*\")"
      ],
      "text/plain": [
       "<IPython.core.display.Javascript object>"
      ]
     },
     "metadata": {},
     "output_type": "display_data"
    },
    {
     "data": {
      "text/markdown": [
       "<span style=\"color:#33cc33\">Correct</span>"
      ],
      "text/plain": [
       "Correct"
      ]
     },
     "metadata": {},
     "output_type": "display_data"
    }
   ],
   "source": [
    "before  = sample_entry.decode(\"big5-tw\")\n",
    "new_entry = before.encode()\n",
    "\n",
    "# Check your answer\n",
    "q1.check()"
   ]
  },
  {
   "cell_type": "code",
   "execution_count": 5,
   "id": "b892de09",
   "metadata": {
    "execution": {
     "iopub.execute_input": "2023-02-12T13:54:39.457331Z",
     "iopub.status.busy": "2023-02-12T13:54:39.456875Z",
     "iopub.status.idle": "2023-02-12T13:54:39.461204Z",
     "shell.execute_reply": "2023-02-12T13:54:39.460119Z"
    },
    "papermill": {
     "duration": 0.013244,
     "end_time": "2023-02-12T13:54:39.463610",
     "exception": false,
     "start_time": "2023-02-12T13:54:39.450366",
     "status": "completed"
    },
    "tags": []
   },
   "outputs": [],
   "source": [
    "# Lines below will give you a hint or solution code\n",
    "#q1.hint()\n",
    "#q1.solution()"
   ]
  },
  {
   "cell_type": "markdown",
   "id": "f8e23137",
   "metadata": {
    "papermill": {
     "duration": 0.004808,
     "end_time": "2023-02-12T13:54:39.473784",
     "exception": false,
     "start_time": "2023-02-12T13:54:39.468976",
     "status": "completed"
    },
    "tags": []
   },
   "source": [
    "# 2) Reading in files with encoding problems\n",
    "\n",
    "Use the code cell below to read in this file at path `\"../input/fatal-police-shootings-in-the-us/PoliceKillingsUS.csv\"`.  \n",
    "\n",
    "Figure out what the correct encoding should be and read in the file to a DataFrame `police_killings`."
   ]
  },
  {
   "cell_type": "code",
   "execution_count": 6,
   "id": "6a3e4c56",
   "metadata": {
    "execution": {
     "iopub.execute_input": "2023-02-12T13:54:39.485959Z",
     "iopub.status.busy": "2023-02-12T13:54:39.485272Z",
     "iopub.status.idle": "2023-02-12T13:54:39.512666Z",
     "shell.execute_reply": "2023-02-12T13:54:39.511565Z"
    },
    "papermill": {
     "duration": 0.03612,
     "end_time": "2023-02-12T13:54:39.514888",
     "exception": false,
     "start_time": "2023-02-12T13:54:39.478768",
     "status": "completed"
    },
    "tags": []
   },
   "outputs": [
    {
     "data": {
      "application/javascript": [
       "parent.postMessage({\"jupyterEvent\": \"custom.exercise_interaction\", \"data\": {\"outcomeType\": 1, \"valueTowardsCompletion\": 0.3333333333333333, \"interactionType\": 1, \"questionType\": 1, \"questionId\": \"2_ReadIn\", \"learnToolsVersion\": \"0.3.4\", \"failureMessage\": \"\", \"exceptionClass\": \"\", \"trace\": \"\"}}, \"*\")"
      ],
      "text/plain": [
       "<IPython.core.display.Javascript object>"
      ]
     },
     "metadata": {},
     "output_type": "display_data"
    },
    {
     "data": {
      "text/markdown": [
       "<span style=\"color:#33cc33\">Correct</span>"
      ],
      "text/plain": [
       "Correct"
      ]
     },
     "metadata": {},
     "output_type": "display_data"
    }
   ],
   "source": [
    "# TODO: Load in the DataFrame correctly.\n",
    "police_killings = pd.read_csv(\"../input/fatal-police-shootings-in-the-us/PoliceKillingsUS.csv\", encoding = \"Windows-1252\")\n",
    "\n",
    "# Check your answer\n",
    "q2.check()"
   ]
  },
  {
   "cell_type": "markdown",
   "id": "c9ecca3f",
   "metadata": {
    "papermill": {
     "duration": 0.00521,
     "end_time": "2023-02-12T13:54:39.525433",
     "exception": false,
     "start_time": "2023-02-12T13:54:39.520223",
     "status": "completed"
    },
    "tags": []
   },
   "source": [
    "Feel free to use any additional code cells for supplemental work.  To get credit for finishing this question, you'll need to run `q2.check()` and get a result of **Correct**."
   ]
  },
  {
   "cell_type": "code",
   "execution_count": 7,
   "id": "83f158a3",
   "metadata": {
    "execution": {
     "iopub.execute_input": "2023-02-12T13:54:39.538191Z",
     "iopub.status.busy": "2023-02-12T13:54:39.537483Z",
     "iopub.status.idle": "2023-02-12T13:54:39.542586Z",
     "shell.execute_reply": "2023-02-12T13:54:39.541524Z"
    },
    "papermill": {
     "duration": 0.014015,
     "end_time": "2023-02-12T13:54:39.544753",
     "exception": false,
     "start_time": "2023-02-12T13:54:39.530738",
     "status": "completed"
    },
    "tags": []
   },
   "outputs": [],
   "source": [
    "# (Optional) Use this code cell for any additional work."
   ]
  },
  {
   "cell_type": "code",
   "execution_count": 8,
   "id": "c75200cf",
   "metadata": {
    "execution": {
     "iopub.execute_input": "2023-02-12T13:54:39.557338Z",
     "iopub.status.busy": "2023-02-12T13:54:39.556899Z",
     "iopub.status.idle": "2023-02-12T13:54:39.561513Z",
     "shell.execute_reply": "2023-02-12T13:54:39.560252Z"
    },
    "papermill": {
     "duration": 0.013929,
     "end_time": "2023-02-12T13:54:39.564120",
     "exception": false,
     "start_time": "2023-02-12T13:54:39.550191",
     "status": "completed"
    },
    "tags": []
   },
   "outputs": [],
   "source": [
    "# Lines below will give you a hint or solution code\n",
    "#q2.hint()\n",
    "#q2.solution()"
   ]
  },
  {
   "cell_type": "markdown",
   "id": "9e7afc18",
   "metadata": {
    "papermill": {
     "duration": 0.005002,
     "end_time": "2023-02-12T13:54:39.574517",
     "exception": false,
     "start_time": "2023-02-12T13:54:39.569515",
     "status": "completed"
    },
    "tags": []
   },
   "source": [
    "# 3) Saving your files with UTF-8 encoding\n",
    "\n",
    "Save a version of the police killings dataset to CSV with UTF-8 encoding.  Your answer will be marked correct after saving this file.  \n",
    "\n",
    "Note: When using the `to_csv()` method, supply only the name of the file (e.g., `\"my_file.csv\"`).  This saves the file at the filepath `\"/kaggle/working/my_file.csv\"`."
   ]
  },
  {
   "cell_type": "code",
   "execution_count": 9,
   "id": "baa9a0a8",
   "metadata": {
    "execution": {
     "iopub.execute_input": "2023-02-12T13:54:39.587146Z",
     "iopub.status.busy": "2023-02-12T13:54:39.586306Z",
     "iopub.status.idle": "2023-02-12T13:54:39.623768Z",
     "shell.execute_reply": "2023-02-12T13:54:39.622515Z"
    },
    "papermill": {
     "duration": 0.046645,
     "end_time": "2023-02-12T13:54:39.626277",
     "exception": false,
     "start_time": "2023-02-12T13:54:39.579632",
     "status": "completed"
    },
    "tags": []
   },
   "outputs": [
    {
     "data": {
      "application/javascript": [
       "parent.postMessage({\"jupyterEvent\": \"custom.exercise_interaction\", \"data\": {\"outcomeType\": 1, \"valueTowardsCompletion\": 0.3333333333333333, \"interactionType\": 1, \"questionType\": 2, \"questionId\": \"3_SaveCSV\", \"learnToolsVersion\": \"0.3.4\", \"failureMessage\": \"\", \"exceptionClass\": \"\", \"trace\": \"\"}}, \"*\")"
      ],
      "text/plain": [
       "<IPython.core.display.Javascript object>"
      ]
     },
     "metadata": {},
     "output_type": "display_data"
    },
    {
     "data": {
      "text/markdown": [
       "<span style=\"color:#33cc33\">Correct</span>"
      ],
      "text/plain": [
       "Correct"
      ]
     },
     "metadata": {},
     "output_type": "display_data"
    }
   ],
   "source": [
    "# TODO: Save the police killings dataset to CSV\n",
    "police_killings.to_csv(\"my_file.csv\")\n",
    "\n",
    "# Check your answer\n",
    "q3.check()"
   ]
  },
  {
   "cell_type": "code",
   "execution_count": 10,
   "id": "dc10eb69",
   "metadata": {
    "execution": {
     "iopub.execute_input": "2023-02-12T13:54:39.639193Z",
     "iopub.status.busy": "2023-02-12T13:54:39.638759Z",
     "iopub.status.idle": "2023-02-12T13:54:39.643278Z",
     "shell.execute_reply": "2023-02-12T13:54:39.642180Z"
    },
    "papermill": {
     "duration": 0.013636,
     "end_time": "2023-02-12T13:54:39.645489",
     "exception": false,
     "start_time": "2023-02-12T13:54:39.631853",
     "status": "completed"
    },
    "tags": []
   },
   "outputs": [],
   "source": [
    "# Lines below will give you a hint or solution code\n",
    "#q3.hint()\n",
    "#q3.solution()"
   ]
  },
  {
   "cell_type": "markdown",
   "id": "4cbdcf92",
   "metadata": {
    "papermill": {
     "duration": 0.00594,
     "end_time": "2023-02-12T13:54:39.656891",
     "exception": false,
     "start_time": "2023-02-12T13:54:39.650951",
     "status": "completed"
    },
    "tags": []
   },
   "source": [
    "# (Optional) More practice\n",
    "\n",
    "Check out [this dataset of files in different character encodings](https://www.kaggle.com/rtatman/character-encoding-examples). Can you read in all the files with their original encodings and them save them out as UTF-8 files?\n",
    "\n",
    "If you have a file that's in UTF-8 but has just a couple of weird-looking characters in it, you can try out the [ftfy module](https://ftfy.readthedocs.io/en/latest/#) and see if it helps. \n",
    "\n",
    "# Keep going\n",
    "\n",
    "In the final lesson, learn how to [**clean up inconsistent text entries**](https://www.kaggle.com/alexisbcook/inconsistent-data-entry) in your dataset."
   ]
  },
  {
   "cell_type": "markdown",
   "id": "b990e223",
   "metadata": {
    "papermill": {
     "duration": 0.005076,
     "end_time": "2023-02-12T13:54:39.667363",
     "exception": false,
     "start_time": "2023-02-12T13:54:39.662287",
     "status": "completed"
    },
    "tags": []
   },
   "source": [
    "---\n",
    "\n",
    "\n",
    "\n",
    "\n",
    "*Have questions or comments? Visit the [course discussion forum](https://www.kaggle.com/learn/data-cleaning/discussion) to chat with other learners.*"
   ]
  }
 ],
 "metadata": {
  "kernelspec": {
   "display_name": "Python 3",
   "language": "python",
   "name": "python3"
  },
  "language_info": {
   "codemirror_mode": {
    "name": "ipython",
    "version": 3
   },
   "file_extension": ".py",
   "mimetype": "text/x-python",
   "name": "python",
   "nbconvert_exporter": "python",
   "pygments_lexer": "ipython3",
   "version": "3.7.12"
  },
  "papermill": {
   "default_parameters": {},
   "duration": 9.601,
   "end_time": "2023-02-12T13:54:40.394317",
   "environment_variables": {},
   "exception": null,
   "input_path": "__notebook__.ipynb",
   "output_path": "__notebook__.ipynb",
   "parameters": {},
   "start_time": "2023-02-12T13:54:30.793317",
   "version": "2.3.4"
  }
 },
 "nbformat": 4,
 "nbformat_minor": 5
}
